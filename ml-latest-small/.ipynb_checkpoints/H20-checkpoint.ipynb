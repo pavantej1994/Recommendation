{
 "cells": [
  {
   "cell_type": "markdown",
   "metadata": {},
   "source": [
    "# Importing H2o library "
   ]
  },
  {
   "cell_type": "code",
   "execution_count": 3,
   "metadata": {},
   "outputs": [],
   "source": [
    "import h2o"
   ]
  },
  {
   "cell_type": "markdown",
   "metadata": {},
   "source": [
    "# Requesting Connection"
   ]
  },
  {
   "cell_type": "code",
   "execution_count": 202,
   "metadata": {},
   "outputs": [
    {
     "name": "stdout",
     "output_type": "stream",
     "text": [
      "Checking whether there is an H2O instance running at http://localhost:54321. connected.\n"
     ]
    },
    {
     "data": {
      "text/html": [
       "<div style=\"overflow:auto\"><table style=\"width:50%\"><tr><td>H2O cluster uptime:</td>\n",
       "<td>21 hours 53 mins</td></tr>\n",
       "<tr><td>H2O cluster timezone:</td>\n",
       "<td>Asia/Kolkata</td></tr>\n",
       "<tr><td>H2O data parsing timezone:</td>\n",
       "<td>UTC</td></tr>\n",
       "<tr><td>H2O cluster version:</td>\n",
       "<td>3.22.1.3</td></tr>\n",
       "<tr><td>H2O cluster version age:</td>\n",
       "<td>19 days </td></tr>\n",
       "<tr><td>H2O cluster name:</td>\n",
       "<td>H2O_from_python_pavantej_z0ahmp</td></tr>\n",
       "<tr><td>H2O cluster total nodes:</td>\n",
       "<td>1</td></tr>\n",
       "<tr><td>H2O cluster free memory:</td>\n",
       "<td>3.339 Gb</td></tr>\n",
       "<tr><td>H2O cluster total cores:</td>\n",
       "<td>4</td></tr>\n",
       "<tr><td>H2O cluster allowed cores:</td>\n",
       "<td>4</td></tr>\n",
       "<tr><td>H2O cluster status:</td>\n",
       "<td>locked, healthy</td></tr>\n",
       "<tr><td>H2O connection url:</td>\n",
       "<td>http://localhost:54321</td></tr>\n",
       "<tr><td>H2O connection proxy:</td>\n",
       "<td>None</td></tr>\n",
       "<tr><td>H2O internal security:</td>\n",
       "<td>False</td></tr>\n",
       "<tr><td>H2O API Extensions:</td>\n",
       "<td>XGBoost, Algos, AutoML, Core V3, Core V4</td></tr>\n",
       "<tr><td>Python version:</td>\n",
       "<td>3.6.5 final</td></tr></table></div>"
      ],
      "text/plain": [
       "--------------------------  ----------------------------------------\n",
       "H2O cluster uptime:         21 hours 53 mins\n",
       "H2O cluster timezone:       Asia/Kolkata\n",
       "H2O data parsing timezone:  UTC\n",
       "H2O cluster version:        3.22.1.3\n",
       "H2O cluster version age:    19 days\n",
       "H2O cluster name:           H2O_from_python_pavantej_z0ahmp\n",
       "H2O cluster total nodes:    1\n",
       "H2O cluster free memory:    3.339 Gb\n",
       "H2O cluster total cores:    4\n",
       "H2O cluster allowed cores:  4\n",
       "H2O cluster status:         locked, healthy\n",
       "H2O connection url:         http://localhost:54321\n",
       "H2O connection proxy:\n",
       "H2O internal security:      False\n",
       "H2O API Extensions:         XGBoost, Algos, AutoML, Core V3, Core V4\n",
       "Python version:             3.6.5 final\n",
       "--------------------------  ----------------------------------------"
      ]
     },
     "metadata": {},
     "output_type": "display_data"
    }
   ],
   "source": [
    "h2o.init(nthreads = -1, max_mem_size = 8)"
   ]
  },
  {
   "cell_type": "markdown",
   "metadata": {},
   "source": [
    "# Loading Ratings file "
   ]
  },
  {
   "cell_type": "code",
   "execution_count": 203,
   "metadata": {},
   "outputs": [],
   "source": [
    "rating_csv='/Users/pavantej/Desktop/SCIT/sem2/big data/20180701_Batch39_CSE7322c_Recommendation/ml-latest-small/rating_edx.csv'"
   ]
  },
  {
   "cell_type": "code",
   "execution_count": 212,
   "metadata": {},
   "outputs": [
    {
     "name": "stdout",
     "output_type": "stream",
     "text": [
      "Parse progress: |█████████████████████████████████████████████████████████| 100%\n"
     ]
    }
   ],
   "source": [
    "data = h2o.import_file(rating_csv)"
   ]
  },
  {
   "cell_type": "markdown",
   "metadata": {},
   "source": [
    "# shape of Ratings file "
   ]
  },
  {
   "cell_type": "code",
   "execution_count": 35,
   "metadata": {},
   "outputs": [
    {
     "data": {
      "text/plain": [
       "(1048575, 4)"
      ]
     },
     "execution_count": 35,
     "metadata": {},
     "output_type": "execute_result"
    }
   ],
   "source": [
    "data.shape"
   ]
  },
  {
   "cell_type": "markdown",
   "metadata": {},
   "source": [
    "# loading Movies data"
   ]
  },
  {
   "cell_type": "code",
   "execution_count": 36,
   "metadata": {},
   "outputs": [],
   "source": [
    "movies_csv='/Users/pavantej/Desktop/SCIT/sem2/big data/20180701_Batch39_CSE7322c_Recommendation/ml-latest-small/movies.csv'"
   ]
  },
  {
   "cell_type": "code",
   "execution_count": 37,
   "metadata": {},
   "outputs": [
    {
     "name": "stdout",
     "output_type": "stream",
     "text": [
      "Parse progress: |█████████████████████████████████████████████████████████| 100%\n"
     ]
    }
   ],
   "source": [
    "data_movies=h2o.import_file(movies_csv)"
   ]
  },
  {
   "cell_type": "markdown",
   "metadata": {},
   "source": [
    "# shape of movies data"
   ]
  },
  {
   "cell_type": "code",
   "execution_count": 38,
   "metadata": {},
   "outputs": [
    {
     "data": {
      "text/plain": [
       "(27278, 3)"
      ]
     },
     "execution_count": 38,
     "metadata": {},
     "output_type": "execute_result"
    }
   ],
   "source": [
    "data_movies.shape"
   ]
  },
  {
   "cell_type": "markdown",
   "metadata": {},
   "source": [
    "# splitting the data into train and test and validation "
   ]
  },
  {
   "cell_type": "code",
   "execution_count": 39,
   "metadata": {},
   "outputs": [],
   "source": [
    "splits = data.split_frame(ratios=[0.8, 0.1], seed=1)  \n",
    "\n",
    "train = splits[0]\n",
    "valid = splits[1]\n",
    "test = splits[2]"
   ]
  },
  {
   "cell_type": "markdown",
   "metadata": {},
   "source": [
    "# Number of counts "
   ]
  },
  {
   "cell_type": "code",
   "execution_count": 40,
   "metadata": {},
   "outputs": [
    {
     "name": "stdout",
     "output_type": "stream",
     "text": [
      "839086\n",
      "104407\n",
      "105082\n"
     ]
    }
   ],
   "source": [
    "print(train.nrow)\n",
    "print (valid.nrow)\n",
    "print (test.nrow)"
   ]
  },
  {
   "cell_type": "code",
   "execution_count": 213,
   "metadata": {},
   "outputs": [],
   "source": [
    "y = 'rating'\n",
    "x = list(data.columns)"
   ]
  },
  {
   "cell_type": "code",
   "execution_count": 214,
   "metadata": {},
   "outputs": [
    {
     "data": {
      "text/plain": [
       "['userId', 'movieId', 'rating', 'timestamp']"
      ]
     },
     "execution_count": 214,
     "metadata": {},
     "output_type": "execute_result"
    }
   ],
   "source": [
    "x"
   ]
  },
  {
   "cell_type": "code",
   "execution_count": 215,
   "metadata": {},
   "outputs": [
    {
     "data": {
      "text/plain": [
       "'rating'"
      ]
     },
     "execution_count": 215,
     "metadata": {},
     "output_type": "execute_result"
    }
   ],
   "source": [
    "y"
   ]
  },
  {
   "cell_type": "code",
   "execution_count": 216,
   "metadata": {},
   "outputs": [],
   "source": [
    "x.remove(y)"
   ]
  },
  {
   "cell_type": "code",
   "execution_count": 217,
   "metadata": {},
   "outputs": [
    {
     "data": {
      "text/plain": [
       "['userId', 'movieId', 'timestamp']"
      ]
     },
     "execution_count": 217,
     "metadata": {},
     "output_type": "execute_result"
    }
   ],
   "source": [
    "x"
   ]
  },
  {
   "cell_type": "code",
   "execution_count": 218,
   "metadata": {},
   "outputs": [],
   "source": [
    "x.remove('timestamp')"
   ]
  },
  {
   "cell_type": "code",
   "execution_count": 219,
   "metadata": {},
   "outputs": [
    {
     "data": {
      "text/plain": [
       "['userId', 'movieId']"
      ]
     },
     "execution_count": 219,
     "metadata": {},
     "output_type": "execute_result"
    }
   ],
   "source": [
    "x"
   ]
  },
  {
   "cell_type": "markdown",
   "metadata": {},
   "source": [
    "# Building Random Forest 1"
   ]
  },
  {
   "cell_type": "code",
   "execution_count": 220,
   "metadata": {},
   "outputs": [],
   "source": [
    "from h2o.estimators.random_forest import H2ORandomForestEstimator"
   ]
  },
  {
   "cell_type": "code",
   "execution_count": 221,
   "metadata": {},
   "outputs": [],
   "source": [
    "rf_fit1 = H2ORandomForestEstimator(model_id='rf_fit1', seed=1)"
   ]
  },
  {
   "cell_type": "code",
   "execution_count": 222,
   "metadata": {},
   "outputs": [
    {
     "name": "stdout",
     "output_type": "stream",
     "text": [
      "drf Model Build progress: |███████████████████████████████████████████████| 100%\n"
     ]
    }
   ],
   "source": [
    "rf_fit1.train(x=x, y=y, training_frame=train)"
   ]
  },
  {
   "cell_type": "code",
   "execution_count": 51,
   "metadata": {},
   "outputs": [],
   "source": [
    "rf_perf1 = rf_fit1.model_performance(test)"
   ]
  },
  {
   "cell_type": "markdown",
   "metadata": {},
   "source": [
    "# Building Random Forest 2"
   ]
  },
  {
   "cell_type": "code",
   "execution_count": 52,
   "metadata": {},
   "outputs": [
    {
     "name": "stdout",
     "output_type": "stream",
     "text": [
      "drf Model Build progress: |███████████████████████████████████████████████| 100%\n"
     ]
    }
   ],
   "source": [
    "rf_fit2 = H2ORandomForestEstimator(model_id='rf_fit2', ntrees=500, seed=1)\n",
    "rf_fit2.train(x=x, y=y, training_frame=train)"
   ]
  },
  {
   "cell_type": "code",
   "execution_count": 54,
   "metadata": {},
   "outputs": [],
   "source": [
    "rf_perf2=rf_fit2.model_performance(test)"
   ]
  },
  {
   "cell_type": "markdown",
   "metadata": {},
   "source": [
    "# Performance Metrics of both the Random Forest"
   ]
  },
  {
   "cell_type": "code",
   "execution_count": 55,
   "metadata": {},
   "outputs": [
    {
     "name": "stdout",
     "output_type": "stream",
     "text": [
      "\n",
      "ModelMetricsRegression: drf\n",
      "** Reported on test data. **\n",
      "\n",
      "MSE: 0.9464477519400134\n",
      "RMSE: 0.9728554630262469\n",
      "MAE: 0.7652385515882485\n",
      "RMSLE: 0.26052885007121324\n",
      "Mean Residual Deviance: 0.9464477519400134\n",
      "<bound method MetricsBase.auc of >\n",
      "\n",
      "ModelMetricsRegression: drf\n",
      "** Reported on test data. **\n",
      "\n",
      "MSE: 0.942661674274772\n",
      "RMSE: 0.9709076548646488\n",
      "MAE: 0.7638785709621067\n",
      "RMSLE: 0.2601718297830711\n",
      "Mean Residual Deviance: 0.942661674274772\n",
      "<bound method MetricsBase.auc of >\n"
     ]
    }
   ],
   "source": [
    "print (rf_perf1.auc)\n",
    "print(rf_perf2.auc)"
   ]
  },
  {
   "cell_type": "markdown",
   "metadata": {},
   "source": [
    "# Predicting on the test data using the best possible Random forest "
   ]
  },
  {
   "cell_type": "code",
   "execution_count": 56,
   "metadata": {},
   "outputs": [
    {
     "name": "stdout",
     "output_type": "stream",
     "text": [
      "drf prediction progress: |████████████████████████████████████████████████| 100%\n"
     ]
    }
   ],
   "source": [
    "preds_test_rf=rf_fit2.predict(test)"
   ]
  },
  {
   "cell_type": "code",
   "execution_count": 57,
   "metadata": {},
   "outputs": [
    {
     "data": {
      "text/html": [
       "<table>\n",
       "<thead>\n",
       "<tr><th style=\"text-align: right;\">  predict</th></tr>\n",
       "</thead>\n",
       "<tbody>\n",
       "<tr><td style=\"text-align: right;\">  4.25851</td></tr>\n",
       "<tr><td style=\"text-align: right;\">  4.00653</td></tr>\n",
       "<tr><td style=\"text-align: right;\">  4.12271</td></tr>\n",
       "<tr><td style=\"text-align: right;\">  4.10105</td></tr>\n",
       "<tr><td style=\"text-align: right;\">  3.7599 </td></tr>\n",
       "<tr><td style=\"text-align: right;\">  3.79877</td></tr>\n",
       "<tr><td style=\"text-align: right;\">  3.94652</td></tr>\n",
       "<tr><td style=\"text-align: right;\">  3.47525</td></tr>\n",
       "<tr><td style=\"text-align: right;\">  4.02296</td></tr>\n",
       "<tr><td style=\"text-align: right;\">  3.89948</td></tr>\n",
       "</tbody>\n",
       "</table>"
      ]
     },
     "metadata": {},
     "output_type": "display_data"
    },
    {
     "data": {
      "text/plain": []
     },
     "execution_count": 57,
     "metadata": {},
     "output_type": "execute_result"
    }
   ],
   "source": [
    "preds_test_rf"
   ]
  },
  {
   "cell_type": "code",
   "execution_count": 58,
   "metadata": {},
   "outputs": [
    {
     "data": {
      "text/plain": [
       "105082"
      ]
     },
     "execution_count": 58,
     "metadata": {},
     "output_type": "execute_result"
    }
   ],
   "source": [
    "preds_test_rf.nrows"
   ]
  },
  {
   "cell_type": "code",
   "execution_count": 59,
   "metadata": {},
   "outputs": [],
   "source": [
    "test['Preds_RF']=preds_test_rf"
   ]
  },
  {
   "cell_type": "code",
   "execution_count": 60,
   "metadata": {},
   "outputs": [
    {
     "data": {
      "text/html": [
       "<table>\n",
       "<thead>\n",
       "<tr><th style=\"text-align: right;\">  userId</th><th style=\"text-align: right;\">  movieId</th><th style=\"text-align: right;\">  rating</th><th style=\"text-align: right;\">  timestamp</th><th style=\"text-align: right;\">  Preds_RF</th></tr>\n",
       "</thead>\n",
       "<tbody>\n",
       "<tr><td style=\"text-align: right;\">       1</td><td style=\"text-align: right;\">      260</td><td style=\"text-align: right;\">     4  </td><td style=\"text-align: right;\">1.11248e+09</td><td style=\"text-align: right;\">   4.25851</td></tr>\n",
       "<tr><td style=\"text-align: right;\">       1</td><td style=\"text-align: right;\">      924</td><td style=\"text-align: right;\">     3.5</td><td style=\"text-align: right;\">1.09479e+09</td><td style=\"text-align: right;\">   4.00653</td></tr>\n",
       "<tr><td style=\"text-align: right;\">       1</td><td style=\"text-align: right;\">     1222</td><td style=\"text-align: right;\">     3.5</td><td style=\"text-align: right;\">1.11248e+09</td><td style=\"text-align: right;\">   4.12271</td></tr>\n",
       "<tr><td style=\"text-align: right;\">       1</td><td style=\"text-align: right;\">     1304</td><td style=\"text-align: right;\">     3  </td><td style=\"text-align: right;\">1.09479e+09</td><td style=\"text-align: right;\">   4.10105</td></tr>\n",
       "<tr><td style=\"text-align: right;\">       1</td><td style=\"text-align: right;\">     1350</td><td style=\"text-align: right;\">     3.5</td><td style=\"text-align: right;\">1.09479e+09</td><td style=\"text-align: right;\">   3.7599 </td></tr>\n",
       "<tr><td style=\"text-align: right;\">       1</td><td style=\"text-align: right;\">     1848</td><td style=\"text-align: right;\">     3.5</td><td style=\"text-align: right;\">1.11249e+09</td><td style=\"text-align: right;\">   3.79877</td></tr>\n",
       "<tr><td style=\"text-align: right;\">       1</td><td style=\"text-align: right;\">     2143</td><td style=\"text-align: right;\">     4  </td><td style=\"text-align: right;\">1.11249e+09</td><td style=\"text-align: right;\">   3.94652</td></tr>\n",
       "<tr><td style=\"text-align: right;\">       1</td><td style=\"text-align: right;\">     2683</td><td style=\"text-align: right;\">     3.5</td><td style=\"text-align: right;\">1.09479e+09</td><td style=\"text-align: right;\">   3.47525</td></tr>\n",
       "<tr><td style=\"text-align: right;\">       1</td><td style=\"text-align: right;\">     2947</td><td style=\"text-align: right;\">     3.5</td><td style=\"text-align: right;\">1.11249e+09</td><td style=\"text-align: right;\">   4.02296</td></tr>\n",
       "<tr><td style=\"text-align: right;\">       1</td><td style=\"text-align: right;\">     3499</td><td style=\"text-align: right;\">     4  </td><td style=\"text-align: right;\">1.11248e+09</td><td style=\"text-align: right;\">   3.89948</td></tr>\n",
       "</tbody>\n",
       "</table>"
      ]
     },
     "metadata": {},
     "output_type": "display_data"
    },
    {
     "data": {
      "text/plain": []
     },
     "execution_count": 60,
     "metadata": {},
     "output_type": "execute_result"
    }
   ],
   "source": [
    "test"
   ]
  },
  {
   "cell_type": "markdown",
   "metadata": {},
   "source": [
    "# Gradient Boosting Machine"
   ]
  },
  {
   "cell_type": "code",
   "execution_count": 61,
   "metadata": {},
   "outputs": [],
   "source": [
    "#Import H2O GBM:\n",
    "from h2o.estimators.gbm import H2OGradientBoostingEstimator"
   ]
  },
  {
   "cell_type": "markdown",
   "metadata": {},
   "source": [
    "# Training using a default GBM"
   ]
  },
  {
   "cell_type": "code",
   "execution_count": 62,
   "metadata": {},
   "outputs": [
    {
     "name": "stdout",
     "output_type": "stream",
     "text": [
      "gbm Model Build progress: |███████████████████████████████████████████████| 100%\n"
     ]
    }
   ],
   "source": [
    "# Initialize and train the GBM estimator:\n",
    "\n",
    "gbm_fit1 = H2OGradientBoostingEstimator(model_id='gbm_fit1', seed=1)\n",
    "gbm_fit1.train(x=x, y=y, training_frame=train)"
   ]
  },
  {
   "cell_type": "markdown",
   "metadata": {},
   "source": [
    "# Training  using  GBM with more trees\n"
   ]
  },
  {
   "cell_type": "code",
   "execution_count": 63,
   "metadata": {},
   "outputs": [
    {
     "name": "stdout",
     "output_type": "stream",
     "text": [
      "gbm Model Build progress: |███████████████████████████████████████████████| 100%\n"
     ]
    }
   ],
   "source": [
    "gbm_fit2 = H2OGradientBoostingEstimator(model_id='gbm_fit2', ntrees=500, seed=1)\n",
    "gbm_fit2.train(x=x, y=y, training_frame=train)"
   ]
  },
  {
   "cell_type": "markdown",
   "metadata": {},
   "source": [
    "# Training using  GBM with early stopping"
   ]
  },
  {
   "cell_type": "code",
   "execution_count": 64,
   "metadata": {},
   "outputs": [
    {
     "name": "stdout",
     "output_type": "stream",
     "text": [
      "gbm Model Build progress: |███████████████████████████████████████████████| 100%\n"
     ]
    }
   ],
   "source": [
    "# Now let's use early stopping to find optimal ntrees\n",
    "\n",
    "gbm_fit3 = H2OGradientBoostingEstimator(model_id='gbm_fit3', \n",
    "                                        ntrees=500, \n",
    "                                        score_tree_interval=5,     #used for early stopping\n",
    "                                        stopping_rounds=3,         #used for early stopping\n",
    "                                        #stopping_metric='AUC',     #used for early stopping\n",
    "                                        stopping_tolerance=0.0005, #used for early stopping\n",
    "                                        seed=1)\n",
    "\n",
    "# The use of a validation_frame is recommended with using early stopping\n",
    "gbm_fit3.train(x=x, y=y, training_frame=train, validation_frame=valid)"
   ]
  },
  {
   "cell_type": "markdown",
   "metadata": {},
   "source": [
    "# Compare model performance"
   ]
  },
  {
   "cell_type": "code",
   "execution_count": 65,
   "metadata": {},
   "outputs": [],
   "source": [
    "gbm_perf1 = gbm_fit1.model_performance(test)\n",
    "gbm_perf2 = gbm_fit2.model_performance(test)\n",
    "gbm_perf3 = gbm_fit3.model_performance(test)"
   ]
  },
  {
   "cell_type": "code",
   "execution_count": 66,
   "metadata": {},
   "outputs": [
    {
     "name": "stdout",
     "output_type": "stream",
     "text": [
      "\n",
      "ModelMetricsRegression: gbm\n",
      "** Reported on test data. **\n",
      "\n",
      "MSE: 1.0362073481362184\n",
      "RMSE: 1.0179427037590172\n",
      "MAE: 0.8081807887497252\n",
      "RMSLE: 0.2720639720390326\n",
      "Mean Residual Deviance: 1.0362073481362184\n",
      "<bound method MetricsBase.auc of >\n",
      "\n",
      "ModelMetricsRegression: gbm\n",
      "** Reported on test data. **\n",
      "\n",
      "MSE: 1.018970108808796\n",
      "RMSE: 1.0094404929508207\n",
      "MAE: 0.8004098437406081\n",
      "RMSLE: 0.2700838540732006\n",
      "Mean Residual Deviance: 1.018970108808796\n",
      "<bound method MetricsBase.auc of >\n",
      "\n",
      "ModelMetricsRegression: gbm\n",
      "** Reported on test data. **\n",
      "\n",
      "MSE: 1.018970108808796\n",
      "RMSE: 1.0094404929508207\n",
      "MAE: 0.8004098437406081\n",
      "RMSLE: 0.2700838540732006\n",
      "Mean Residual Deviance: 1.018970108808796\n",
      "<bound method MetricsBase.auc of >\n"
     ]
    }
   ],
   "source": [
    "# Retreive test set AUC\n",
    "print (gbm_perf1.auc)\n",
    "print (gbm_perf2.auc)\n",
    "print (gbm_perf3.auc)"
   ]
  },
  {
   "cell_type": "markdown",
   "metadata": {},
   "source": [
    "# predicting using the best GBM "
   ]
  },
  {
   "cell_type": "code",
   "execution_count": 67,
   "metadata": {},
   "outputs": [
    {
     "name": "stdout",
     "output_type": "stream",
     "text": [
      "gbm prediction progress: |████████████████████████████████████████████████| 100%\n"
     ]
    }
   ],
   "source": [
    "preds_GBM=gbm_fit2.predict(test)"
   ]
  },
  {
   "cell_type": "code",
   "execution_count": 68,
   "metadata": {},
   "outputs": [
    {
     "data": {
      "text/html": [
       "<table>\n",
       "<thead>\n",
       "<tr><th style=\"text-align: right;\">  predict</th></tr>\n",
       "</thead>\n",
       "<tbody>\n",
       "<tr><td style=\"text-align: right;\">  3.97722</td></tr>\n",
       "<tr><td style=\"text-align: right;\">  4.06259</td></tr>\n",
       "<tr><td style=\"text-align: right;\">  4.11316</td></tr>\n",
       "<tr><td style=\"text-align: right;\">  4.00862</td></tr>\n",
       "<tr><td style=\"text-align: right;\">  3.65534</td></tr>\n",
       "<tr><td style=\"text-align: right;\">  3.4555 </td></tr>\n",
       "<tr><td style=\"text-align: right;\">  3.62012</td></tr>\n",
       "<tr><td style=\"text-align: right;\">  3.54708</td></tr>\n",
       "<tr><td style=\"text-align: right;\">  3.74987</td></tr>\n",
       "<tr><td style=\"text-align: right;\">  3.66349</td></tr>\n",
       "</tbody>\n",
       "</table>"
      ]
     },
     "metadata": {},
     "output_type": "display_data"
    },
    {
     "data": {
      "text/plain": []
     },
     "execution_count": 68,
     "metadata": {},
     "output_type": "execute_result"
    }
   ],
   "source": [
    "preds_GBM"
   ]
  },
  {
   "cell_type": "code",
   "execution_count": 69,
   "metadata": {},
   "outputs": [],
   "source": [
    "test['preds_GBM']=preds_GBM"
   ]
  },
  {
   "cell_type": "code",
   "execution_count": 75,
   "metadata": {},
   "outputs": [
    {
     "data": {
      "text/html": [
       "<table>\n",
       "<thead>\n",
       "<tr><th style=\"text-align: right;\">  userId</th><th style=\"text-align: right;\">  movieId</th><th style=\"text-align: right;\">  rating</th><th style=\"text-align: right;\">  timestamp</th><th style=\"text-align: right;\">  Preds_RF</th><th style=\"text-align: right;\">  preds_GBM</th></tr>\n",
       "</thead>\n",
       "<tbody>\n",
       "<tr><td style=\"text-align: right;\">       1</td><td style=\"text-align: right;\">      260</td><td style=\"text-align: right;\">     4  </td><td style=\"text-align: right;\">1.11248e+09</td><td style=\"text-align: right;\">   4.25851</td><td style=\"text-align: right;\">    3.97722</td></tr>\n",
       "<tr><td style=\"text-align: right;\">       1</td><td style=\"text-align: right;\">      924</td><td style=\"text-align: right;\">     3.5</td><td style=\"text-align: right;\">1.09479e+09</td><td style=\"text-align: right;\">   4.00653</td><td style=\"text-align: right;\">    4.06259</td></tr>\n",
       "<tr><td style=\"text-align: right;\">       1</td><td style=\"text-align: right;\">     1222</td><td style=\"text-align: right;\">     3.5</td><td style=\"text-align: right;\">1.11248e+09</td><td style=\"text-align: right;\">   4.12271</td><td style=\"text-align: right;\">    4.11316</td></tr>\n",
       "<tr><td style=\"text-align: right;\">       1</td><td style=\"text-align: right;\">     1304</td><td style=\"text-align: right;\">     3  </td><td style=\"text-align: right;\">1.09479e+09</td><td style=\"text-align: right;\">   4.10105</td><td style=\"text-align: right;\">    4.00862</td></tr>\n",
       "<tr><td style=\"text-align: right;\">       1</td><td style=\"text-align: right;\">     1350</td><td style=\"text-align: right;\">     3.5</td><td style=\"text-align: right;\">1.09479e+09</td><td style=\"text-align: right;\">   3.7599 </td><td style=\"text-align: right;\">    3.65534</td></tr>\n",
       "<tr><td style=\"text-align: right;\">       1</td><td style=\"text-align: right;\">     1848</td><td style=\"text-align: right;\">     3.5</td><td style=\"text-align: right;\">1.11249e+09</td><td style=\"text-align: right;\">   3.79877</td><td style=\"text-align: right;\">    3.4555 </td></tr>\n",
       "<tr><td style=\"text-align: right;\">       1</td><td style=\"text-align: right;\">     2143</td><td style=\"text-align: right;\">     4  </td><td style=\"text-align: right;\">1.11249e+09</td><td style=\"text-align: right;\">   3.94652</td><td style=\"text-align: right;\">    3.62012</td></tr>\n",
       "<tr><td style=\"text-align: right;\">       1</td><td style=\"text-align: right;\">     2683</td><td style=\"text-align: right;\">     3.5</td><td style=\"text-align: right;\">1.09479e+09</td><td style=\"text-align: right;\">   3.47525</td><td style=\"text-align: right;\">    3.54708</td></tr>\n",
       "<tr><td style=\"text-align: right;\">       1</td><td style=\"text-align: right;\">     2947</td><td style=\"text-align: right;\">     3.5</td><td style=\"text-align: right;\">1.11249e+09</td><td style=\"text-align: right;\">   4.02296</td><td style=\"text-align: right;\">    3.74987</td></tr>\n",
       "<tr><td style=\"text-align: right;\">       1</td><td style=\"text-align: right;\">     3499</td><td style=\"text-align: right;\">     4  </td><td style=\"text-align: right;\">1.11248e+09</td><td style=\"text-align: right;\">   3.89948</td><td style=\"text-align: right;\">    3.66349</td></tr>\n",
       "</tbody>\n",
       "</table>"
      ]
     },
     "metadata": {},
     "output_type": "display_data"
    },
    {
     "data": {
      "text/plain": [
       "<bound method H2OFrame.show of >"
      ]
     },
     "execution_count": 75,
     "metadata": {},
     "output_type": "execute_result"
    }
   ],
   "source": [
    "test.show"
   ]
  },
  {
   "cell_type": "code",
   "execution_count": 76,
   "metadata": {},
   "outputs": [
    {
     "data": {
      "text/plain": [
       "(105082, 6)"
      ]
     },
     "execution_count": 76,
     "metadata": {},
     "output_type": "execute_result"
    }
   ],
   "source": [
    "test.shape"
   ]
  },
  {
   "cell_type": "markdown",
   "metadata": {},
   "source": [
    "# Deep Learning"
   ]
  },
  {
   "cell_type": "code",
   "execution_count": 78,
   "metadata": {},
   "outputs": [],
   "source": [
    "# Import H2O DL:\n",
    "from h2o.estimators.deeplearning import H2ODeepLearningEstimator"
   ]
  },
  {
   "cell_type": "code",
   "execution_count": 92,
   "metadata": {},
   "outputs": [
    {
     "name": "stdout",
     "output_type": "stream",
     "text": [
      "deeplearning Model Build progress: |██████████████████████████████████████| 100%\n"
     ]
    }
   ],
   "source": [
    "# Initialize and train the DL estimator:\n",
    "\n",
    "dl_fit2 = H2ODeepLearningEstimator(model_id='dl_fit2', \n",
    "                                   epochs=20, \n",
    "                                   hidden=[5,5], \n",
    "                                   stopping_rounds=0,  #disable early stopping\n",
    "                                   seed=1)\n",
    "dl_fit2.train(x=x, y=y, training_frame=train)"
   ]
  },
  {
   "cell_type": "code",
   "execution_count": 104,
   "metadata": {},
   "outputs": [
    {
     "name": "stdout",
     "output_type": "stream",
     "text": [
      "deeplearning Model Build progress: |██████████████████████████████████████| 100%\n"
     ]
    }
   ],
   "source": [
    "dl_fit3 = H2ODeepLearningEstimator(model_id='dl_fit3', \n",
    "                                   epochs=20, \n",
    "                                   hidden=[10,10],\n",
    "                                   score_interval=1,          #used for early stopping\n",
    "                                   stopping_rounds=3,         #used for early stopping\n",
    "                                   #stopping_metric='AUC',     #used for early stopping\n",
    "                                   stopping_tolerance=0.0005, #used for early stopping\n",
    "                                   seed=1)\n",
    "dl_fit3.train(x=x, y=y, training_frame=train, validation_frame=valid)"
   ]
  },
  {
   "cell_type": "code",
   "execution_count": 105,
   "metadata": {},
   "outputs": [],
   "source": [
    "dl_perf2 = dl_fit2.model_performance(test)\n",
    "dl_perf3 = dl_fit3.model_performance(test)"
   ]
  },
  {
   "cell_type": "code",
   "execution_count": 106,
   "metadata": {},
   "outputs": [
    {
     "name": "stdout",
     "output_type": "stream",
     "text": [
      "\n",
      "ModelMetricsRegression: deeplearning\n",
      "** Reported on test data. **\n",
      "\n",
      "MSE: 1.10577015941525\n",
      "RMSE: 1.0515560657498249\n",
      "MAE: 0.8401877569562359\n",
      "RMSLE: 0.28031377811888614\n",
      "Mean Residual Deviance: 1.10577015941525\n",
      "<bound method MetricsBase.auc of >\n",
      "\n",
      "ModelMetricsRegression: deeplearning\n",
      "** Reported on test data. **\n",
      "\n",
      "MSE: 1.1082407619179437\n",
      "RMSE: 1.05273014676979\n",
      "MAE: 0.8422151592904912\n",
      "RMSLE: 0.2799999736465173\n",
      "Mean Residual Deviance: 1.1082407619179437\n",
      "<bound method MetricsBase.auc of >\n"
     ]
    }
   ],
   "source": [
    "print (dl_perf2.auc)\n",
    "print (dl_perf3.auc)"
   ]
  },
  {
   "cell_type": "code",
   "execution_count": 107,
   "metadata": {},
   "outputs": [
    {
     "name": "stdout",
     "output_type": "stream",
     "text": [
      "deeplearning prediction progress: |███████████████████████████████████████| 100%\n"
     ]
    }
   ],
   "source": [
    "preds_NN=dl_fit3.predict(test)"
   ]
  },
  {
   "cell_type": "code",
   "execution_count": 108,
   "metadata": {},
   "outputs": [
    {
     "data": {
      "text/html": [
       "<table>\n",
       "<thead>\n",
       "<tr><th style=\"text-align: right;\">  predict</th></tr>\n",
       "</thead>\n",
       "<tbody>\n",
       "<tr><td style=\"text-align: right;\">  3.53627</td></tr>\n",
       "<tr><td style=\"text-align: right;\">  3.51476</td></tr>\n",
       "<tr><td style=\"text-align: right;\">  3.50511</td></tr>\n",
       "<tr><td style=\"text-align: right;\">  3.50245</td></tr>\n",
       "<tr><td style=\"text-align: right;\">  3.50096</td></tr>\n",
       "<tr><td style=\"text-align: right;\">  3.48483</td></tr>\n",
       "<tr><td style=\"text-align: right;\">  3.47527</td></tr>\n",
       "<tr><td style=\"text-align: right;\">  3.45778</td></tr>\n",
       "<tr><td style=\"text-align: right;\">  3.44923</td></tr>\n",
       "<tr><td style=\"text-align: right;\">  3.43879</td></tr>\n",
       "</tbody>\n",
       "</table>"
      ]
     },
     "metadata": {},
     "output_type": "display_data"
    },
    {
     "data": {
      "text/plain": []
     },
     "execution_count": 108,
     "metadata": {},
     "output_type": "execute_result"
    }
   ],
   "source": [
    "preds_NN"
   ]
  },
  {
   "cell_type": "code",
   "execution_count": 109,
   "metadata": {},
   "outputs": [],
   "source": [
    "test['preds_NN']=preds_NN"
   ]
  },
  {
   "cell_type": "code",
   "execution_count": 110,
   "metadata": {},
   "outputs": [
    {
     "data": {
      "text/html": [
       "<table>\n",
       "<thead>\n",
       "<tr><th style=\"text-align: right;\">  userId</th><th style=\"text-align: right;\">  movieId</th><th style=\"text-align: right;\">  rating</th><th style=\"text-align: right;\">  timestamp</th><th style=\"text-align: right;\">  Preds_RF</th><th style=\"text-align: right;\">  preds_GBM</th><th style=\"text-align: right;\">  preds_NN</th></tr>\n",
       "</thead>\n",
       "<tbody>\n",
       "<tr><td style=\"text-align: right;\">       1</td><td style=\"text-align: right;\">      260</td><td style=\"text-align: right;\">     4  </td><td style=\"text-align: right;\">1.11248e+09</td><td style=\"text-align: right;\">   4.25851</td><td style=\"text-align: right;\">    3.97722</td><td style=\"text-align: right;\">   3.53627</td></tr>\n",
       "<tr><td style=\"text-align: right;\">       1</td><td style=\"text-align: right;\">      924</td><td style=\"text-align: right;\">     3.5</td><td style=\"text-align: right;\">1.09479e+09</td><td style=\"text-align: right;\">   4.00653</td><td style=\"text-align: right;\">    4.06259</td><td style=\"text-align: right;\">   3.51476</td></tr>\n",
       "<tr><td style=\"text-align: right;\">       1</td><td style=\"text-align: right;\">     1222</td><td style=\"text-align: right;\">     3.5</td><td style=\"text-align: right;\">1.11248e+09</td><td style=\"text-align: right;\">   4.12271</td><td style=\"text-align: right;\">    4.11316</td><td style=\"text-align: right;\">   3.50511</td></tr>\n",
       "<tr><td style=\"text-align: right;\">       1</td><td style=\"text-align: right;\">     1304</td><td style=\"text-align: right;\">     3  </td><td style=\"text-align: right;\">1.09479e+09</td><td style=\"text-align: right;\">   4.10105</td><td style=\"text-align: right;\">    4.00862</td><td style=\"text-align: right;\">   3.50245</td></tr>\n",
       "<tr><td style=\"text-align: right;\">       1</td><td style=\"text-align: right;\">     1350</td><td style=\"text-align: right;\">     3.5</td><td style=\"text-align: right;\">1.09479e+09</td><td style=\"text-align: right;\">   3.7599 </td><td style=\"text-align: right;\">    3.65534</td><td style=\"text-align: right;\">   3.50096</td></tr>\n",
       "<tr><td style=\"text-align: right;\">       1</td><td style=\"text-align: right;\">     1848</td><td style=\"text-align: right;\">     3.5</td><td style=\"text-align: right;\">1.11249e+09</td><td style=\"text-align: right;\">   3.79877</td><td style=\"text-align: right;\">    3.4555 </td><td style=\"text-align: right;\">   3.48483</td></tr>\n",
       "<tr><td style=\"text-align: right;\">       1</td><td style=\"text-align: right;\">     2143</td><td style=\"text-align: right;\">     4  </td><td style=\"text-align: right;\">1.11249e+09</td><td style=\"text-align: right;\">   3.94652</td><td style=\"text-align: right;\">    3.62012</td><td style=\"text-align: right;\">   3.47527</td></tr>\n",
       "<tr><td style=\"text-align: right;\">       1</td><td style=\"text-align: right;\">     2683</td><td style=\"text-align: right;\">     3.5</td><td style=\"text-align: right;\">1.09479e+09</td><td style=\"text-align: right;\">   3.47525</td><td style=\"text-align: right;\">    3.54708</td><td style=\"text-align: right;\">   3.45778</td></tr>\n",
       "<tr><td style=\"text-align: right;\">       1</td><td style=\"text-align: right;\">     2947</td><td style=\"text-align: right;\">     3.5</td><td style=\"text-align: right;\">1.11249e+09</td><td style=\"text-align: right;\">   4.02296</td><td style=\"text-align: right;\">    3.74987</td><td style=\"text-align: right;\">   3.44923</td></tr>\n",
       "<tr><td style=\"text-align: right;\">       1</td><td style=\"text-align: right;\">     3499</td><td style=\"text-align: right;\">     4  </td><td style=\"text-align: right;\">1.11248e+09</td><td style=\"text-align: right;\">   3.89948</td><td style=\"text-align: right;\">    3.66349</td><td style=\"text-align: right;\">   3.43879</td></tr>\n",
       "</tbody>\n",
       "</table>"
      ]
     },
     "metadata": {},
     "output_type": "display_data"
    },
    {
     "data": {
      "text/plain": []
     },
     "execution_count": 110,
     "metadata": {},
     "output_type": "execute_result"
    }
   ],
   "source": [
    "test"
   ]
  },
  {
   "cell_type": "code",
   "execution_count": 182,
   "metadata": {},
   "outputs": [],
   "source": [
    "WA=((0.5*test['Preds_RF'])+(0.3*test['preds_GBM'])+(0.2*test['preds_NN']))"
   ]
  },
  {
   "cell_type": "code",
   "execution_count": 183,
   "metadata": {},
   "outputs": [
    {
     "data": {
      "text/html": [
       "<table>\n",
       "<thead>\n",
       "<tr><th style=\"text-align: right;\">  Preds_RF</th></tr>\n",
       "</thead>\n",
       "<tbody>\n",
       "<tr><td style=\"text-align: right;\">   4.02967</td></tr>\n",
       "<tr><td style=\"text-align: right;\">   3.92499</td></tr>\n",
       "<tr><td style=\"text-align: right;\">   3.99632</td></tr>\n",
       "<tr><td style=\"text-align: right;\">   3.9536 </td></tr>\n",
       "<tr><td style=\"text-align: right;\">   3.67674</td></tr>\n",
       "<tr><td style=\"text-align: right;\">   3.633  </td></tr>\n",
       "<tr><td style=\"text-align: right;\">   3.75435</td></tr>\n",
       "<tr><td style=\"text-align: right;\">   3.4933 </td></tr>\n",
       "<tr><td style=\"text-align: right;\">   3.82629</td></tr>\n",
       "<tr><td style=\"text-align: right;\">   3.73654</td></tr>\n",
       "</tbody>\n",
       "</table>"
      ]
     },
     "metadata": {},
     "output_type": "display_data"
    },
    {
     "data": {
      "text/plain": []
     },
     "execution_count": 183,
     "metadata": {},
     "output_type": "execute_result"
    }
   ],
   "source": [
    "WA"
   ]
  },
  {
   "cell_type": "code",
   "execution_count": 185,
   "metadata": {},
   "outputs": [],
   "source": [
    "Avg=(test['Preds_RF']+test['preds_GBM']+test['preds_NN'])/3"
   ]
  },
  {
   "cell_type": "code",
   "execution_count": 186,
   "metadata": {},
   "outputs": [
    {
     "data": {
      "text/html": [
       "<table>\n",
       "<thead>\n",
       "<tr><th style=\"text-align: right;\">  Preds_RF</th></tr>\n",
       "</thead>\n",
       "<tbody>\n",
       "<tr><td style=\"text-align: right;\">   3.924  </td></tr>\n",
       "<tr><td style=\"text-align: right;\">   3.86129</td></tr>\n",
       "<tr><td style=\"text-align: right;\">   3.91366</td></tr>\n",
       "<tr><td style=\"text-align: right;\">   3.87071</td></tr>\n",
       "<tr><td style=\"text-align: right;\">   3.63873</td></tr>\n",
       "<tr><td style=\"text-align: right;\">   3.5797 </td></tr>\n",
       "<tr><td style=\"text-align: right;\">   3.68064</td></tr>\n",
       "<tr><td style=\"text-align: right;\">   3.49337</td></tr>\n",
       "<tr><td style=\"text-align: right;\">   3.74069</td></tr>\n",
       "<tr><td style=\"text-align: right;\">   3.66725</td></tr>\n",
       "</tbody>\n",
       "</table>"
      ]
     },
     "metadata": {},
     "output_type": "display_data"
    },
    {
     "data": {
      "text/plain": []
     },
     "execution_count": 186,
     "metadata": {},
     "output_type": "execute_result"
    }
   ],
   "source": [
    "Avg"
   ]
  },
  {
   "cell_type": "code",
   "execution_count": 200,
   "metadata": {},
   "outputs": [],
   "source": [
    "test['Avg']=Avg"
   ]
  },
  {
   "cell_type": "code",
   "execution_count": null,
   "metadata": {},
   "outputs": [],
   "source": []
  },
  {
   "cell_type": "code",
   "execution_count": 210,
   "metadata": {},
   "outputs": [
    {
     "name": "stdout",
     "output_type": "stream",
     "text": [
      "This H2OFrame has been removed.\n"
     ]
    },
    {
     "data": {
      "text/plain": [
       "<bound method H2OFrame.sum of >"
      ]
     },
     "execution_count": 210,
     "metadata": {},
     "output_type": "execute_result"
    }
   ],
   "source": [
    "    "
   ]
  },
  {
   "cell_type": "code",
   "execution_count": null,
   "metadata": {},
   "outputs": [],
   "source": []
  }
 ],
 "metadata": {
  "kernelspec": {
   "display_name": "Python 3",
   "language": "python",
   "name": "python3"
  },
  "language_info": {
   "codemirror_mode": {
    "name": "ipython",
    "version": 3
   },
   "file_extension": ".py",
   "mimetype": "text/x-python",
   "name": "python",
   "nbconvert_exporter": "python",
   "pygments_lexer": "ipython3",
   "version": "3.7.6"
  }
 },
 "nbformat": 4,
 "nbformat_minor": 2
}
