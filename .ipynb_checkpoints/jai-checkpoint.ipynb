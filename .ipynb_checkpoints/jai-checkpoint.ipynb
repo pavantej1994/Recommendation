{
 "cells": [
  {
   "cell_type": "markdown",
   "metadata": {},
   "source": [
    "### Creating SPARK_HOME "
   ]
  },
  {
   "cell_type": "code",
   "execution_count": 1,
   "metadata": {},
   "outputs": [],
   "source": [
    "import os\n",
    "import sys\n",
    "os.environ[\"SPARK_HOME\"] = \"/usr/hdp/current/spark2-client\"\n",
    "os.environ[\"PYLIB\"] = os.environ[\"SPARK_HOME\"] + \"/python/lib\"\n",
    "sys.path.insert(0, os.environ[\"PYLIB\"] + \"/py4j-0.10.4-src.zip\")\n",
    "sys.path.insert(0, os.environ[\"PYLIB\"] + \"/pyspark.zip\")"
   ]
  },
  {
   "cell_type": "markdown",
   "metadata": {},
   "source": [
    "### Initializing Spark"
   ]
  },
  {
   "cell_type": "code",
   "execution_count": 2,
   "metadata": {},
   "outputs": [],
   "source": [
    "import findspark"
   ]
  },
  {
   "cell_type": "code",
   "execution_count": 3,
   "metadata": {},
   "outputs": [],
   "source": [
    "findspark.init(\"/usr/local/spark/\")"
   ]
  },
  {
   "cell_type": "code",
   "execution_count": 4,
   "metadata": {},
   "outputs": [],
   "source": [
    "from pyspark.sql import SparkSession"
   ]
  },
  {
   "cell_type": "code",
   "execution_count": 5,
   "metadata": {},
   "outputs": [],
   "source": [
    "from pyspark.conf import SparkConf\n",
    "from pyspark import SparkContext\n",
    "from pyspark.sql import SparkSession\n",
    "\n",
    "conf = SparkConf().setAppName(\"Movie Recommendation Applicationk\").setMaster('local')\n",
    "sc = SparkContext(conf=conf)\n",
    "spark = SparkSession(sc)\n",
    "\n"
   ]
  },
  {
   "cell_type": "markdown",
   "metadata": {
    "collapsed": true
   },
   "source": [
    "### Loading the dependent libraries"
   ]
  },
  {
   "cell_type": "code",
   "execution_count": 6,
   "metadata": {},
   "outputs": [],
   "source": [
    "from pyspark.sql.types import *\n",
    "from pyspark.sql.functions import *\n",
    "\n",
    "from pyspark.sql.functions import isnan, when, count, col, countDistinct"
   ]
  },
  {
   "cell_type": "markdown",
   "metadata": {},
   "source": [
    "\n",
    "#### Problem Statement\n",
    " To predict movie ratings\n",
    "\n",
    "\n"
   ]
  },
  {
   "cell_type": "markdown",
   "metadata": {},
   "source": [
    "### Reading the movies and ratings data and creating a dataframe"
   ]
  },
  {
   "cell_type": "code",
   "execution_count": 7,
   "metadata": {},
   "outputs": [],
   "source": [
    "## Read data and create a dataframe\n",
    "ratingsData = spark.read.format(\"csv\")\\\n",
    "       .option(\"header\", \"true\")\\\n",
    "       .option(\"inferSchema\", \"true\")\\\n",
    "       .load(\"file:///Users/jaisachdev/Desktop/SCIT/sem2/big data/20180701_Batch39_CSE7322c_Recommendation/ml-latest-small/rating_edx.csv\")\n",
    "    \n",
    "moviesData = spark.read.format(\"csv\")\\\n",
    "       .option(\"header\",\"true\")\\\n",
    "       .option(\"inferSchema\", \"true\")\\\n",
    "       .load(\"file:///Users/jaisachdev/Desktop/SCIT/sem2/big data/20180701_Batch39_CSE7322c_Recommendation/ml-latest-small/movies.csv\")\n",
    "    "
   ]
  },
  {
   "cell_type": "code",
   "execution_count": null,
   "metadata": {},
   "outputs": [],
   "source": []
  },
  {
   "cell_type": "markdown",
   "metadata": {},
   "source": [
    "### Understanding Data"
   ]
  },
  {
   "cell_type": "markdown",
   "metadata": {},
   "source": [
    "#### Print Schema"
   ]
  },
  {
   "cell_type": "code",
   "execution_count": 8,
   "metadata": {},
   "outputs": [
    {
     "name": "stdout",
     "output_type": "stream",
     "text": [
      "root\n",
      " |-- userId: integer (nullable = true)\n",
      " |-- movieId: integer (nullable = true)\n",
      " |-- rating: double (nullable = true)\n",
      " |-- timestamp: integer (nullable = true)\n",
      "\n",
      "root\n",
      " |-- movieId: integer (nullable = true)\n",
      " |-- title: string (nullable = true)\n",
      " |-- genres: string (nullable = true)\n",
      "\n"
     ]
    }
   ],
   "source": [
    "ratingsData.printSchema()\n",
    "moviesData.printSchema()"
   ]
  },
  {
   "cell_type": "markdown",
   "metadata": {},
   "source": [
    "#### Total number of Columns and Records"
   ]
  },
  {
   "cell_type": "code",
   "execution_count": 9,
   "metadata": {},
   "outputs": [
    {
     "data": {
      "text/plain": [
       "1048575"
      ]
     },
     "execution_count": 9,
     "metadata": {},
     "output_type": "execute_result"
    }
   ],
   "source": [
    "ratingsData.count()"
   ]
  },
  {
   "cell_type": "code",
   "execution_count": 10,
   "metadata": {},
   "outputs": [
    {
     "name": "stdout",
     "output_type": "stream",
     "text": [
      "No. of Columns in Ratings data= 4\n",
      "No. of Records in rating data= 1048575\n",
      "No. of Columns in movies data = 3\n",
      "No. of Records in movies data= 27278\n"
     ]
    }
   ],
   "source": [
    "print(\"No. of Columns in Ratings data= {}\".format(len(ratingsData.columns)))\n",
    "\n",
    "print('No. of Records in rating data= {}'.format(ratingsData.count()))\n",
    "\n",
    "print(\"No. of Columns in movies data = {}\".format(len(moviesData.columns)))\n",
    "\n",
    "print('No. of Records in movies data= {}'.format(moviesData.count()))"
   ]
  },
  {
   "cell_type": "markdown",
   "metadata": {},
   "source": [
    "#### Look at first 3 row of the dataframe"
   ]
  },
  {
   "cell_type": "code",
   "execution_count": 11,
   "metadata": {},
   "outputs": [
    {
     "name": "stdout",
     "output_type": "stream",
     "text": [
      "+------+-------+------+----------+\n",
      "|userId|movieId|rating| timestamp|\n",
      "+------+-------+------+----------+\n",
      "|     1|      2|   3.5|1112486027|\n",
      "|     1|     29|   3.5|1112484676|\n",
      "|     1|     32|   3.5|1112484819|\n",
      "+------+-------+------+----------+\n",
      "only showing top 3 rows\n",
      "\n"
     ]
    }
   ],
   "source": [
    "ratingsData.show(3)"
   ]
  },
  {
   "cell_type": "code",
   "execution_count": 12,
   "metadata": {},
   "outputs": [
    {
     "name": "stdout",
     "output_type": "stream",
     "text": [
      "+-------+--------------------+--------------------+\n",
      "|movieId|               title|              genres|\n",
      "+-------+--------------------+--------------------+\n",
      "|      1|    Toy Story (1995)|Adventure|Animati...|\n",
      "|      2|      Jumanji (1995)|Adventure|Childre...|\n",
      "|      3|Grumpier Old Men ...|      Comedy|Romance|\n",
      "+-------+--------------------+--------------------+\n",
      "only showing top 3 rows\n",
      "\n"
     ]
    }
   ],
   "source": [
    "moviesData.show(3)"
   ]
  },
  {
   "cell_type": "markdown",
   "metadata": {},
   "source": [
    "Getting the count of Distinct usersIds and movieIDs"
   ]
  },
  {
   "cell_type": "code",
   "execution_count": 13,
   "metadata": {},
   "outputs": [
    {
     "name": "stdout",
     "output_type": "stream",
     "text": [
      "Number of different users: 7120\n",
      "Number of different movies rated: 14026\n",
      "Number of different movies: 27278\n"
     ]
    }
   ],
   "source": [
    "print (\"Number of different users: \" + str(ratingsData.select('userId').distinct().count()))\n",
    "print (\"Number of different movies rated: \" + str(ratingsData.select('movieId').distinct().count()))\n",
    "print (\"Number of different movies: \" + str(moviesData.select('movieId').distinct().count()))"
   ]
  },
  {
   "cell_type": "markdown",
   "metadata": {},
   "source": [
    "#### Split the data into training and test sets (20% held out for testing)"
   ]
  },
  {
   "cell_type": "code",
   "execution_count": 14,
   "metadata": {},
   "outputs": [],
   "source": [
    "(trainingData,testData)=ratingsData.randomSplit([0.8,0.2])"
   ]
  },
  {
   "cell_type": "markdown",
   "metadata": {},
   "source": [
    "### Model Building and Evaluation"
   ]
  },
  {
   "cell_type": "code",
   "execution_count": 15,
   "metadata": {},
   "outputs": [],
   "source": [
    "from pyspark.ml.recommendation import ALS\n",
    "\n",
    "# Build the recommendation model using ALS on the training data\n",
    "# Note we set cold start strategy to 'drop' to ensure we don't get NaN evaluation metrics\n",
    "als= ALS(userCol=\"userId\",itemCol=\"movieId\",ratingCol=\"rating\",coldStartStrategy='drop')"
   ]
  },
  {
   "cell_type": "code",
   "execution_count": 16,
   "metadata": {},
   "outputs": [],
   "source": [
    "model = als.fit(trainingData)"
   ]
  },
  {
   "cell_type": "markdown",
   "metadata": {},
   "source": [
    "# Prediction on the test data\n"
   ]
  },
  {
   "cell_type": "code",
   "execution_count": 17,
   "metadata": {},
   "outputs": [],
   "source": [
    "predictions=model.transform(testData)"
   ]
  },
  {
   "cell_type": "code",
   "execution_count": 18,
   "metadata": {},
   "outputs": [
    {
     "name": "stdout",
     "output_type": "stream",
     "text": [
      "+------+-------+------+----------+----------+\n",
      "|userId|movieId|rating| timestamp|prediction|\n",
      "+------+-------+------+----------+----------+\n",
      "|  5186|    148|   2.0| 962906606|  3.183427|\n",
      "|   903|    148|   3.0| 903702432| 2.1616917|\n",
      "|  3433|    148|   2.0| 940482169| 3.0820343|\n",
      "|  5814|    148|   3.0| 859547410| 3.3013158|\n",
      "|  6225|    148|   2.0| 842275770| 2.4905005|\n",
      "|   741|    148|   4.5|1194731117|  2.435807|\n",
      "|  1931|    148|   2.0| 848773886| 3.1583629|\n",
      "|  5110|    463|   3.0| 862695893| 2.3977346|\n",
      "|  4548|    463|   2.0| 846889607| 2.6793292|\n",
      "|  3179|    471|   4.0|1076914207| 3.2690513|\n",
      "|  3986|    471|   5.0|1080277641| 4.1049805|\n",
      "|  1808|    471|   3.0| 846426225| 2.7743587|\n",
      "|  4531|    471|   4.0| 938899399|  3.486186|\n",
      "|  5375|    471|   4.0| 858636489|  3.576294|\n",
      "|   101|    471|   3.0| 836325948| 3.7018466|\n",
      "|  3008|    471|   2.5|1112482555| 2.4421215|\n",
      "|  2313|    471|   4.0| 844329059| 3.7920914|\n",
      "|  5895|    471|   5.0|1264332812| 3.0111866|\n",
      "|  1372|    471|   4.0| 958144579| 3.7297087|\n",
      "|  1889|    471|   4.0| 834209425|  4.080819|\n",
      "|  4758|    471|   4.0| 941283388| 3.6233408|\n",
      "|  1280|    471|   3.0| 835743511|  3.312838|\n",
      "|  2062|    471|   2.5|1285095422| 3.4399967|\n",
      "|   860|    471|   5.0| 979800826|  3.646732|\n",
      "|  2090|    471|   5.0| 859420630|  3.742688|\n",
      "|  2675|    471|   3.0| 833104106|  3.428282|\n",
      "|  3912|    471|   1.0| 943223892| 3.4242322|\n",
      "|  4526|    471|   5.0| 969331153| 3.7899454|\n",
      "|  6792|    471|   4.0| 901725407| 3.3598197|\n",
      "|  1908|    471|   3.0| 994788474| 3.2779922|\n",
      "|  2113|    471|   3.0|1047293299| 3.1897917|\n",
      "|  4090|    471|   3.0| 833830967| 2.9919267|\n",
      "|  4386|    471|   4.0|1111624874| 3.1735775|\n",
      "|  3862|    471|   5.0| 836755120| 3.4738648|\n",
      "|   140|    471|   4.0| 914178726| 4.1100173|\n",
      "|  2398|    471|   4.0| 948221988| 3.3468516|\n",
      "|   694|    471|   2.5|1169078943| 3.5745883|\n",
      "|  5334|    471|   5.0|1111191694|  4.248151|\n",
      "|   955|    471|   3.0| 953663105| 2.8582609|\n",
      "|  6099|    471|   3.5|1111580014| 3.6808515|\n",
      "|  3570|    471|   4.0| 836776111| 3.0876536|\n",
      "|  4475|    471|   4.0|1094057193| 3.8185077|\n",
      "|  2337|    471|   1.0| 942322412| 3.2468076|\n",
      "|  6282|    471|   3.0|1144153153| 3.6115932|\n",
      "|  1367|    471|   3.0| 839011367|  3.221621|\n",
      "|  1956|    471|   4.0| 946343587|  3.715906|\n",
      "|  3659|    471|   5.0| 940520039|  4.026649|\n",
      "|   980|    471|   2.0| 836399150| 2.7632387|\n",
      "|  3269|    471|   2.0| 975000262|  3.851065|\n",
      "|  4928|    471|   3.0|1092114958|   3.85788|\n",
      "+------+-------+------+----------+----------+\n",
      "only showing top 50 rows\n",
      "\n"
     ]
    }
   ],
   "source": [
    "predictions.show(50)"
   ]
  },
  {
   "cell_type": "markdown",
   "metadata": {},
   "source": [
    "### Defining the evaluator"
   ]
  },
  {
   "cell_type": "code",
   "execution_count": 19,
   "metadata": {},
   "outputs": [],
   "source": [
    "from pyspark.ml.evaluation import RegressionEvaluator\n",
    "evaluator=RegressionEvaluator(metricName='rmse',labelCol=\"rating\",predictionCol=\"prediction\")"
   ]
  },
  {
   "cell_type": "markdown",
   "metadata": {},
   "source": [
    "#### Evaluation on the test data"
   ]
  },
  {
   "cell_type": "code",
   "execution_count": 21,
   "metadata": {},
   "outputs": [],
   "source": [
    "rmse=evaluator.evaluate(predictions)"
   ]
  },
  {
   "cell_type": "code",
   "execution_count": 33,
   "metadata": {},
   "outputs": [
    {
     "name": "stdout",
     "output_type": "stream",
     "text": [
      "RMSE Error =0.8232699598238117\n"
     ]
    }
   ],
   "source": [
    "print(\"RMSE Error =\" + str(rmse))"
   ]
  },
  {
   "cell_type": "code",
   "execution_count": 22,
   "metadata": {},
   "outputs": [
    {
     "name": "stdout",
     "output_type": "stream",
     "text": [
      "+------+-------+------+----------+----------+\n",
      "|userId|movieId|rating| timestamp|prediction|\n",
      "+------+-------+------+----------+----------+\n",
      "|  5186|    148|   2.0| 962906606|  3.183427|\n",
      "|   903|    148|   3.0| 903702432| 2.1616917|\n",
      "|  3433|    148|   2.0| 940482169| 3.0820343|\n",
      "|  5814|    148|   3.0| 859547410| 3.3013158|\n",
      "|  6225|    148|   2.0| 842275770| 2.4905005|\n",
      "|   741|    148|   4.5|1194731117|  2.435807|\n",
      "|  1931|    148|   2.0| 848773886| 3.1583629|\n",
      "|  5110|    463|   3.0| 862695893| 2.3977346|\n",
      "|  4548|    463|   2.0| 846889607| 2.6793292|\n",
      "|  3179|    471|   4.0|1076914207| 3.2690513|\n",
      "|  3986|    471|   5.0|1080277641| 4.1049805|\n",
      "|  1808|    471|   3.0| 846426225| 2.7743587|\n",
      "|  4531|    471|   4.0| 938899399|  3.486186|\n",
      "|  5375|    471|   4.0| 858636489|  3.576294|\n",
      "|   101|    471|   3.0| 836325948| 3.7018466|\n",
      "|  3008|    471|   2.5|1112482555| 2.4421215|\n",
      "|  2313|    471|   4.0| 844329059| 3.7920914|\n",
      "|  5895|    471|   5.0|1264332812| 3.0111866|\n",
      "|  1372|    471|   4.0| 958144579| 3.7297087|\n",
      "|  1889|    471|   4.0| 834209425|  4.080819|\n",
      "|  4758|    471|   4.0| 941283388| 3.6233408|\n",
      "|  1280|    471|   3.0| 835743511|  3.312838|\n",
      "|  2062|    471|   2.5|1285095422| 3.4399967|\n",
      "|   860|    471|   5.0| 979800826|  3.646732|\n",
      "|  2090|    471|   5.0| 859420630|  3.742688|\n",
      "|  2675|    471|   3.0| 833104106|  3.428282|\n",
      "|  3912|    471|   1.0| 943223892| 3.4242322|\n",
      "|  4526|    471|   5.0| 969331153| 3.7899454|\n",
      "|  6792|    471|   4.0| 901725407| 3.3598197|\n",
      "|  1908|    471|   3.0| 994788474| 3.2779922|\n",
      "|  2113|    471|   3.0|1047293299| 3.1897917|\n",
      "|  4090|    471|   3.0| 833830967| 2.9919267|\n",
      "|  4386|    471|   4.0|1111624874| 3.1735775|\n",
      "|  3862|    471|   5.0| 836755120| 3.4738648|\n",
      "|   140|    471|   4.0| 914178726| 4.1100173|\n",
      "|  2398|    471|   4.0| 948221988| 3.3468516|\n",
      "|   694|    471|   2.5|1169078943| 3.5745883|\n",
      "|  5334|    471|   5.0|1111191694|  4.248151|\n",
      "|   955|    471|   3.0| 953663105| 2.8582609|\n",
      "|  6099|    471|   3.5|1111580014| 3.6808515|\n",
      "|  3570|    471|   4.0| 836776111| 3.0876536|\n",
      "|  4475|    471|   4.0|1094057193| 3.8185077|\n",
      "|  2337|    471|   1.0| 942322412| 3.2468076|\n",
      "|  6282|    471|   3.0|1144153153| 3.6115932|\n",
      "|  1367|    471|   3.0| 839011367|  3.221621|\n",
      "|  1956|    471|   4.0| 946343587|  3.715906|\n",
      "|  3659|    471|   5.0| 940520039|  4.026649|\n",
      "|   980|    471|   2.0| 836399150| 2.7632387|\n",
      "|  3269|    471|   2.0| 975000262|  3.851065|\n",
      "|  4928|    471|   3.0|1092114958|   3.85788|\n",
      "|  2412|    471|   3.0| 939397575| 3.6699347|\n",
      "|  4976|    471|   5.0| 833153032| 3.7646558|\n",
      "|  6676|    471|   4.0| 835885081|  3.431548|\n",
      "|  2930|    471|   4.0|1112469552| 3.4230127|\n",
      "|   415|    471|   4.0|1072117649|  3.292767|\n",
      "|  5751|    471|   4.0|1065666992| 2.9818385|\n",
      "|  6921|    471|   4.0| 992652604|  3.341753|\n",
      "|  2741|    471|   4.0| 974695248|  3.608328|\n",
      "|  3612|    471|   5.0| 836988210| 3.5739665|\n",
      "|  2019|    471|   4.0|1115783981| 3.4728208|\n",
      "|  5088|    471|   3.5|1114180457| 4.0630875|\n",
      "|  5476|    471|   3.0| 844613645| 3.0725398|\n",
      "|  4353|    471|   4.0|1165578570| 3.9149754|\n",
      "|  6873|    471|   5.0|1039276848| 3.7578213|\n",
      "|   381|    471|   4.0| 835178822| 3.6431658|\n",
      "|  4578|    471|   4.0|1225310306| 3.7820346|\n",
      "|  1789|    471|   4.0|1201966300| 3.3353033|\n",
      "|  2171|    471|   4.0| 938761568| 3.6081076|\n",
      "|  2338|    471|   2.5|1360632327| 3.0454936|\n",
      "|  4444|    471|   3.0| 832585326| 3.0789294|\n",
      "|  5561|    471|   3.0| 835793673| 3.5046594|\n",
      "|  2937|    471|   5.0| 844020813| 4.0286508|\n",
      "|  6570|    471|   4.0|1058931314| 3.7712286|\n",
      "|   238|    471|   3.0|1111491514|  3.398388|\n",
      "|   244|    471|   4.0| 832127844|  3.553664|\n",
      "|  5187|    471|   4.0|1036188451| 4.2983336|\n",
      "|  1601|    471|   3.5|1135757383| 3.1631107|\n",
      "|   691|    471|   3.0| 962617495|  3.146162|\n",
      "|  4150|    471|   5.0|1285977849| 3.8725963|\n",
      "|  3944|    471|   4.0|1225303660| 3.7261472|\n",
      "|  1412|    471|   5.0| 945762253| 3.5436926|\n",
      "|  2590|    471|   5.0|1131222754| 4.3014374|\n",
      "|   869|    471|   4.5|1111474033| 3.3713524|\n",
      "|  1058|    471|   5.0| 849003669| 3.6461947|\n",
      "|  1780|    471|   4.0|1155028508| 3.7717988|\n",
      "|  3745|    471|   5.0| 904530160| 4.2295446|\n",
      "|   750|    471|   3.0| 838834808| 3.1158009|\n",
      "|   769|    471|   4.0| 835009770|  3.457104|\n",
      "|  5412|    471|   5.0| 986259119| 4.0877523|\n",
      "|  5402|    471|   2.0| 831991580| 3.5063672|\n",
      "|  2958|    471|   3.0| 836766479| 2.8058681|\n",
      "|  6931|    471|   5.0| 948551918| 3.6687448|\n",
      "|  1147|    471|   4.0|1325683160|  3.180739|\n",
      "|  5323|    471|   4.0| 841168477|  3.669835|\n",
      "|  6129|    471|   4.0| 847324048| 3.1585104|\n",
      "|  2505|    471|   3.0| 831693710| 3.0929453|\n",
      "|  6823|    471|   4.0| 865339980| 3.7525582|\n",
      "|  2669|    471|   4.0|1082536117|  3.633641|\n",
      "|  1185|    471|   3.5|1100713580|   3.48863|\n",
      "|  5483|    471|   4.0| 997989044| 2.8452148|\n",
      "+------+-------+------+----------+----------+\n",
      "only showing top 100 rows\n",
      "\n"
     ]
    }
   ],
   "source": [
    "predictions.show(100)"
   ]
  },
  {
   "cell_type": "code",
   "execution_count": 23,
   "metadata": {},
   "outputs": [],
   "source": [
    "spark.stop()"
   ]
  },
  {
   "cell_type": "code",
   "execution_count": null,
   "metadata": {},
   "outputs": [],
   "source": []
  },
  {
   "cell_type": "code",
   "execution_count": null,
   "metadata": {},
   "outputs": [],
   "source": []
  }
 ],
 "metadata": {
  "kernelspec": {
   "display_name": "Python 3",
   "language": "python",
   "name": "python3"
  },
  "language_info": {
   "codemirror_mode": {
    "name": "ipython",
    "version": 3
   },
   "file_extension": ".py",
   "mimetype": "text/x-python",
   "name": "python",
   "nbconvert_exporter": "python",
   "pygments_lexer": "ipython3",
   "version": "3.6.5"
  }
 },
 "nbformat": 4,
 "nbformat_minor": 2
}
