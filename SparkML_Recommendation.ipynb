{
 "cells": [
  {
   "cell_type": "markdown",
   "metadata": {},
   "source": [
    "### Create SPARK_HOME and PYLIB env var and update PATH env var"
   ]
  },
  {
   "cell_type": "code",
   "execution_count": 2,
   "metadata": {},
   "outputs": [],
   "source": [
    "import os\n",
    "import sys\n",
    "os.environ[\"SPARK_HOME\"] = \"/usr/hdp/current/spark2-client\"\n",
    "os.environ[\"PYLIB\"] = os.environ[\"SPARK_HOME\"] + \"/python/lib\"\n",
    "sys.path.insert(0, os.environ[\"PYLIB\"] + \"/py4j-0.10.4-src.zip\")\n",
    "sys.path.insert(0, os.environ[\"PYLIB\"] + \"/pyspark.zip\")"
   ]
  },
  {
   "cell_type": "markdown",
   "metadata": {},
   "source": [
    "### Initializing Spark"
   ]
  },
  {
   "cell_type": "markdown",
   "metadata": {},
   "source": [
    "Build __SparkConf__ object \n",
    "\n",
    "    Contains information about your application.  \n",
    "\n",
    "\n",
    "Create __SparkContext__ object \n",
    "    \n",
    "    Tells Spark how to access a cluster. \n",
    "    \n",
    "\n",
    "Create __SparkSession__ object\n",
    "\n",
    "    The entry point to programming Spark with the Dataset and DataFrame API.\n",
    "\n",
    "    Used to create DataFrame, register DataFrame as tables and execute SQL over tables etc."
   ]
  },
  {
   "cell_type": "code",
   "execution_count": 3,
   "metadata": {},
   "outputs": [],
   "source": [
    "import findspark"
   ]
  },
  {
   "cell_type": "code",
   "execution_count": 3,
   "metadata": {},
   "outputs": [],
   "source": [
    "findspark.init(\"/usr/local/spark/\")"
   ]
  },
  {
   "cell_type": "code",
   "execution_count": 4,
   "metadata": {},
   "outputs": [],
   "source": [
    "from pyspark.sql import SparkSession"
   ]
  },
  {
   "cell_type": "code",
   "execution_count": 5,
   "metadata": {},
   "outputs": [],
   "source": [
    "?Spark"
   ]
  },
  {
   "cell_type": "code",
   "execution_count": 9,
   "metadata": {},
   "outputs": [],
   "source": [
    "from pyspark.conf import SparkConf\n",
    "from pyspark import SparkContext\n",
    "from pyspark.sql import SparkSession\n",
    "\n",
    "conf = SparkConf().setAppName(\"Movie Recommendation Applicationk\").setMaster('local')\n",
    "sc = SparkContext(conf=conf)\n",
    "spark = SparkSession(sc)\n",
    "\n"
   ]
  },
  {
   "cell_type": "code",
   "execution_count": null,
   "metadata": {},
   "outputs": [],
   "source": []
  },
  {
   "cell_type": "markdown",
   "metadata": {
    "collapsed": true
   },
   "source": [
    "### Loading the dependent libraries"
   ]
  },
  {
   "cell_type": "code",
   "execution_count": 6,
   "metadata": {},
   "outputs": [],
   "source": [
    "from pyspark.sql.types import *\n",
    "from pyspark.sql.functions import *\n",
    "\n",
    "from pyspark.sql.functions import isnan, when, count, col, countDistinct"
   ]
  },
  {
   "cell_type": "markdown",
   "metadata": {},
   "source": [
    "\n",
    "#### Problem Statement\n",
    " Building a  system that predicts the rating a user gives to a perticular movie.\n",
    "\n",
    "\n",
    "#### Data Dictionary\n",
    "\n",
    "Ratings Data File Structure (ratings.csv)\n",
    "-----------------------------------------\n",
    "\n",
    "All ratings are contained in the file `ratings.csv`. Each line of this file after the header row represents one rating of one movie by one user, and has the following format:\n",
    "\n",
    "    userId, movieId, rating, timestamp\n",
    "\n",
    "The lines within this file are ordered first by userId, then, within user, by movieId.\n",
    "\n",
    "Ratings are made on a 5-star scale, with half-star increments (0.5 stars - 5.0 stars).\n",
    "\n",
    "Timestamps represent seconds since midnight Coordinated Universal Time (UTC) of January 1, 1970.\n",
    "\n",
    "\n",
    "Movies Data File Structure (movies.csv)\n",
    "---------------------------------------\n",
    "\n",
    "Movie information is contained in the file `movies.csv`. Each line of this file after the header row represents one movie, and has the following format:\n",
    "\n",
    "    movieId, title, genres\n",
    "\n",
    "Genres are a pipe-separated list, and are selected from the following:\n",
    "\n",
    "* Action\n",
    "* Adventure\n",
    "* Animation\n",
    "* Children's\n",
    "* Comedy\n",
    "* Crime\n",
    "* Documentary\n",
    "* Drama\n",
    "* Fantasy\n",
    "* Film-Noir\n",
    "* Horror\n",
    "* Musical\n",
    "* Mystery\n",
    "* Romance\n",
    "* Sci-Fi\n",
    "* Thriller\n",
    "* War\n",
    "* Western\n",
    "* (no genres listed)\n"
   ]
  },
  {
   "cell_type": "markdown",
   "metadata": {},
   "source": [
    "### Reading the movies and ratings data and creating a dataframe"
   ]
  },
  {
   "cell_type": "code",
   "execution_count": 7,
   "metadata": {},
   "outputs": [],
   "source": [
    "## Read data and create a dataframe\n",
    "ratingsData = spark.read.format(\"csv\")\\\n",
    "       .option(\"header\", \"true\")\\\n",
    "       .option(\"inferSchema\", \"true\")\\\n",
    "       .load(\"file:///Users/pavantej/Desktop/SCIT/sem2/big data/20180701_Batch39_CSE7322c_Recommendation/ml-latest-small/rating_edx.csv\")\n",
    "    \n",
    "moviesData = spark.read.format(\"csv\")\\\n",
    "       .option(\"header\",\"true\")\\\n",
    "       .option(\"inferSchema\", \"true\")\\\n",
    "       .load(\"file:///Users/pavantej/Desktop/SCIT/sem2/big data/20180701_Batch39_CSE7322c_Recommendation/ml-latest-small/movies.csv\")\n",
    "    "
   ]
  },
  {
   "cell_type": "code",
   "execution_count": null,
   "metadata": {},
   "outputs": [],
   "source": []
  },
  {
   "cell_type": "markdown",
   "metadata": {},
   "source": [
    "### Understanding Data"
   ]
  },
  {
   "cell_type": "markdown",
   "metadata": {},
   "source": [
    "#### Print Schema"
   ]
  },
  {
   "cell_type": "code",
   "execution_count": 8,
   "metadata": {},
   "outputs": [
    {
     "name": "stdout",
     "output_type": "stream",
     "text": [
      "root\n",
      " |-- userId: integer (nullable = true)\n",
      " |-- movieId: integer (nullable = true)\n",
      " |-- rating: double (nullable = true)\n",
      " |-- timestamp: integer (nullable = true)\n",
      "\n",
      "root\n",
      " |-- movieId: integer (nullable = true)\n",
      " |-- title: string (nullable = true)\n",
      " |-- genres: string (nullable = true)\n",
      "\n"
     ]
    }
   ],
   "source": [
    "ratingsData.printSchema()\n",
    "moviesData.printSchema()"
   ]
  },
  {
   "cell_type": "markdown",
   "metadata": {},
   "source": [
    "#### Total number of Columns and Records"
   ]
  },
  {
   "cell_type": "code",
   "execution_count": 9,
   "metadata": {},
   "outputs": [
    {
     "data": {
      "text/plain": [
       "1048575"
      ]
     },
     "execution_count": 9,
     "metadata": {},
     "output_type": "execute_result"
    }
   ],
   "source": [
    "ratingsData.count()"
   ]
  },
  {
   "cell_type": "code",
   "execution_count": 10,
   "metadata": {},
   "outputs": [
    {
     "name": "stdout",
     "output_type": "stream",
     "text": [
      "No. of Columns in Ratings data= 4\n",
      "No. of Records in rating data= 1048575\n",
      "No. of Columns in movies data = 3\n",
      "No. of Records in movies data= 27278\n"
     ]
    }
   ],
   "source": [
    "print(\"No. of Columns in Ratings data= {}\".format(len(ratingsData.columns)))\n",
    "\n",
    "print('No. of Records in rating data= {}'.format(ratingsData.count()))\n",
    "\n",
    "print(\"No. of Columns in movies data = {}\".format(len(moviesData.columns)))\n",
    "\n",
    "print('No. of Records in movies data= {}'.format(moviesData.count()))"
   ]
  },
  {
   "cell_type": "markdown",
   "metadata": {},
   "source": [
    "#### Look at first 3 row of the dataframe"
   ]
  },
  {
   "cell_type": "code",
   "execution_count": 11,
   "metadata": {},
   "outputs": [
    {
     "name": "stdout",
     "output_type": "stream",
     "text": [
      "+------+-------+------+----------+\n",
      "|userId|movieId|rating| timestamp|\n",
      "+------+-------+------+----------+\n",
      "|     1|      2|   3.5|1112486027|\n",
      "|     1|     29|   3.5|1112484676|\n",
      "|     1|     32|   3.5|1112484819|\n",
      "+------+-------+------+----------+\n",
      "only showing top 3 rows\n",
      "\n"
     ]
    }
   ],
   "source": [
    "ratingsData.show(3)"
   ]
  },
  {
   "cell_type": "code",
   "execution_count": 12,
   "metadata": {},
   "outputs": [
    {
     "name": "stdout",
     "output_type": "stream",
     "text": [
      "+-------+--------------------+--------------------+\n",
      "|movieId|               title|              genres|\n",
      "+-------+--------------------+--------------------+\n",
      "|      1|    Toy Story (1995)|Adventure|Animati...|\n",
      "|      2|      Jumanji (1995)|Adventure|Childre...|\n",
      "|      3|Grumpier Old Men ...|      Comedy|Romance|\n",
      "+-------+--------------------+--------------------+\n",
      "only showing top 3 rows\n",
      "\n"
     ]
    }
   ],
   "source": [
    "moviesData.show(3)"
   ]
  },
  {
   "cell_type": "markdown",
   "metadata": {},
   "source": [
    "#### Summary statistics"
   ]
  },
  {
   "cell_type": "code",
   "execution_count": 13,
   "metadata": {},
   "outputs": [
    {
     "name": "stdout",
     "output_type": "stream",
     "text": [
      "+-------+------------------+------------------+------------------+--------------------+\n",
      "|summary|            userId|           movieId|            rating|           timestamp|\n",
      "+-------+------------------+------------------+------------------+--------------------+\n",
      "|  count|           1048575|           1048575|           1048575|             1048575|\n",
      "|   mean|  3527.08612259495| 8648.988281238824|3.5292716305462175|1.0960358899987383E9|\n",
      "| stddev|2018.4244255314572|19100.143880088344|1.0519187535878674|1.5948985505821717E8|\n",
      "|    min|                 1|                 1|               0.5|           825499934|\n",
      "|    max|              7120|            130642|               5.0|          1427764240|\n",
      "+-------+------------------+------------------+------------------+--------------------+\n",
      "\n"
     ]
    }
   ],
   "source": [
    "ratingsData.describe().show()"
   ]
  },
  {
   "cell_type": "code",
   "execution_count": 14,
   "metadata": {},
   "outputs": [
    {
     "name": "stdout",
     "output_type": "stream",
     "text": [
      "+-------+-----------------+--------------------+------------------+\n",
      "|summary|          movieId|               title|            genres|\n",
      "+-------+-----------------+--------------------+------------------+\n",
      "|  count|            27278|               27278|             27278|\n",
      "|   mean|59855.48057042305|                null|              null|\n",
      "| stddev|44429.31469707313|                null|              null|\n",
      "|    min|                1|\"\"\"Great Performa...|(no genres listed)|\n",
      "|    max|           131262|  ��vegtigris (2001)|           Western|\n",
      "+-------+-----------------+--------------------+------------------+\n",
      "\n"
     ]
    }
   ],
   "source": [
    "moviesData.describe().show()"
   ]
  },
  {
   "cell_type": "markdown",
   "metadata": {},
   "source": [
    "Getting the count of Distinct usersIds and movieIDs"
   ]
  },
  {
   "cell_type": "code",
   "execution_count": 15,
   "metadata": {},
   "outputs": [
    {
     "name": "stdout",
     "output_type": "stream",
     "text": [
      "Number of different users: 7120\n",
      "Number of different movies: 14026\n",
      "Number of different movies: 27278\n"
     ]
    }
   ],
   "source": [
    "print (\"Number of different users: \" + str(ratingsData.select('userId').distinct().count()))\n",
    "print (\"Number of different movies: \" + str(ratingsData.select('movieId').distinct().count()))\n",
    "print (\"Number of different movies: \" + str(moviesData.select('movieId').distinct().count()))"
   ]
  },
  {
   "cell_type": "markdown",
   "metadata": {},
   "source": []
  },
  {
   "cell_type": "code",
   "execution_count": null,
   "metadata": {},
   "outputs": [],
   "source": []
  },
  {
   "cell_type": "code",
   "execution_count": null,
   "metadata": {
    "scrolled": true
   },
   "outputs": [],
   "source": []
  },
  {
   "cell_type": "markdown",
   "metadata": {},
   "source": [
    "#### Split the data into training and test sets (20% held out for testing)"
   ]
  },
  {
   "cell_type": "code",
   "execution_count": 16,
   "metadata": {},
   "outputs": [],
   "source": [
    "(trainingData,testData)=ratingsData.randomSplit([0.8,0.2])"
   ]
  },
  {
   "cell_type": "markdown",
   "metadata": {},
   "source": [
    "### Model Building and Evaluation"
   ]
  },
  {
   "cell_type": "markdown",
   "metadata": {},
   "source": [
    "#### ALS model params\n",
    "\n",
    "\n",
    "1. numBlocks is the number of blocks the users and items will be partitioned into in order to parallelize computation (defaults to 10).\n",
    "2. rank is the number of latent factors in the model (defaults to 10).\n",
    "3. maxIter is the maximum number of iterations to run (defaults to 10).\n",
    "4. regParam specifies the regularization parameter in ALS (defaults to 1.0).\n",
    "5. implicitPrefs specifies whether to use the explicit feedback ALS variant or one adapted for implicit feedback data (defaults to false which means using explicit feedback).\n",
    "6. alpha is a parameter applicable to the implicit feedback variant of ALS that governs the baseline confidence in preference observations (defaults to 1.0).\n",
    "7. nonnegative specifies whether or not to use nonnegative constraints for least squares (defaults to false).\n"
   ]
  },
  {
   "cell_type": "code",
   "execution_count": 17,
   "metadata": {},
   "outputs": [],
   "source": [
    "from pyspark.ml.recommendation import ALS\n",
    "\n",
    "# Build the recommendation model using ALS on the training data\n",
    "# Note we set cold start strategy to 'drop' to ensure we don't get NaN evaluation metrics\n",
    "als= ALS(userCol=\"userId\",itemCol=\"movieId\",ratingCol=\"rating\",coldStartStrategy='drop')"
   ]
  },
  {
   "cell_type": "code",
   "execution_count": 18,
   "metadata": {},
   "outputs": [],
   "source": [
    "model = als.fit(trainingData)"
   ]
  },
  {
   "cell_type": "code",
   "execution_count": 19,
   "metadata": {},
   "outputs": [],
   "source": [
    "# Predicting on the test data\n"
   ]
  },
  {
   "cell_type": "code",
   "execution_count": 20,
   "metadata": {},
   "outputs": [],
   "source": [
    "predictions=model.transform(testData)"
   ]
  },
  {
   "cell_type": "code",
   "execution_count": 21,
   "metadata": {},
   "outputs": [
    {
     "name": "stdout",
     "output_type": "stream",
     "text": [
      "+------+-------+------+----------+----------+\n",
      "|userId|movieId|rating| timestamp|prediction|\n",
      "+------+-------+------+----------+----------+\n",
      "|  3990|    148|   4.0|1422817494|  2.042097|\n",
      "|  3673|    148|   2.0| 901681963| 2.0415459|\n",
      "|  6225|    148|   2.0| 842275770|  2.604641|\n",
      "|  3335|    148|   5.0|1023837661|  2.040286|\n",
      "|  5084|    463|   2.0| 966459084|  2.787434|\n",
      "|  4162|    463|   3.0| 850913460| 2.7557917|\n",
      "|  4548|    463|   2.0| 846889607| 2.9697099|\n",
      "|  3428|    463|   2.0|1043020761| 3.0821939|\n",
      "|  5518|    471|   4.0| 956168193| 3.4692736|\n",
      "|  1460|    471|   5.0| 913416668| 3.9384558|\n",
      "|  6361|    471|   3.0| 837413612| 3.3940828|\n",
      "|  6176|    471|   3.0| 901469133| 3.4901278|\n",
      "|  3008|    471|   2.5|1112482555| 2.3525224|\n",
      "|  1889|    471|   4.0| 834209425|  4.100391|\n",
      "|   332|    471|   3.0| 901760618| 2.9301324|\n",
      "|  1210|    471|   3.0| 967063772|   3.12928|\n",
      "|  1890|    471|   4.5|1152945560|  3.202113|\n",
      "|  2062|    471|   2.5|1285095422|  3.547802|\n",
      "|   860|    471|   5.0| 979800826| 3.6863308|\n",
      "|  6880|    471|   5.0|1157231706| 3.9363866|\n",
      "|  2113|    471|   3.0|1047293299| 3.2800105|\n",
      "|  4823|    471|   3.0| 925035039| 3.0158815|\n",
      "|  4989|    471|   3.0| 850281965| 3.4502566|\n",
      "|  2242|    471|   4.0|1136517700| 3.5852778|\n",
      "|  5633|    471|   2.0| 977428969| 3.6991591|\n",
      "|   603|    471|   3.0| 837531862| 3.5646565|\n",
      "|   770|    471|   4.0|1414322813| 3.7532709|\n",
      "|  5791|    471|   4.0| 959821551| 3.9561858|\n",
      "|  4569|    471|   3.0| 843058558|  3.044868|\n",
      "|  1473|    471|   4.0|1078781950| 3.3734028|\n",
      "|  3192|    471|   3.0| 846159568| 3.8322587|\n",
      "|  5000|    471|   5.0| 848223595|  4.331291|\n",
      "|  6996|    471|   4.0|1168300820| 3.5501485|\n",
      "|  6282|    471|   3.0|1144153153|   3.73231|\n",
      "|  2281|    471|   1.0| 953913845| 1.5159211|\n",
      "|   572|    471|   3.5|1324273986| 3.4133182|\n",
      "|  4914|    471|   5.0| 976222005| 3.4280207|\n",
      "|  4347|    471|   3.0|1025735559| 2.9873111|\n",
      "|  2071|    471|   5.0|1120533302|  3.707857|\n",
      "|  5338|    471|   4.5|1153260295| 4.2193794|\n",
      "|   377|    471|   5.0| 864510535|  3.371518|\n",
      "|  4176|    471|   5.0| 840486284| 3.9738123|\n",
      "|  3269|    471|   2.0| 975000262| 4.0088887|\n",
      "|  4928|    471|   3.0|1092114958| 3.8975394|\n",
      "|  1951|    471|   3.0|1111719280| 3.4010227|\n",
      "|  3473|    471|   3.0|1115076224|  3.278658|\n",
      "|  4529|    471|   3.0|1174591863| 3.1325765|\n",
      "|  5924|    471|   4.0| 939081461|  4.013186|\n",
      "|  2950|    471|   5.0|1013380990| 3.9655123|\n",
      "|  2903|    471|   4.5|1122496248| 4.0808616|\n",
      "+------+-------+------+----------+----------+\n",
      "only showing top 50 rows\n",
      "\n"
     ]
    }
   ],
   "source": [
    "predictions.show(50)"
   ]
  },
  {
   "cell_type": "code",
   "execution_count": null,
   "metadata": {},
   "outputs": [],
   "source": []
  },
  {
   "cell_type": "markdown",
   "metadata": {},
   "source": [
    "### Defining the evaluator"
   ]
  },
  {
   "cell_type": "code",
   "execution_count": 22,
   "metadata": {},
   "outputs": [],
   "source": [
    "from pyspark.ml.evaluation import RegressionEvaluator\n",
    "evaluator=RegressionEvaluator(metricName='rmse',labelCol=\"rating\",predictionCol=\"prediction\")"
   ]
  },
  {
   "cell_type": "code",
   "execution_count": 13,
   "metadata": {},
   "outputs": [],
   "source": [
    "?RegressionEvaluator"
   ]
  },
  {
   "cell_type": "markdown",
   "metadata": {},
   "source": [
    "#### Evaluation on the test data"
   ]
  },
  {
   "cell_type": "code",
   "execution_count": 23,
   "metadata": {},
   "outputs": [],
   "source": [
    "rmse=evaluator.evaluate(predictions)"
   ]
  },
  {
   "cell_type": "code",
   "execution_count": 33,
   "metadata": {},
   "outputs": [
    {
     "name": "stdout",
     "output_type": "stream",
     "text": [
      "RMSE Error =0.8232699598238117\n"
     ]
    }
   ],
   "source": [
    "print(\"RMSE Error =\" + str(rmse))"
   ]
  },
  {
   "cell_type": "code",
   "execution_count": 34,
   "metadata": {},
   "outputs": [
    {
     "name": "stdout",
     "output_type": "stream",
     "text": [
      "+------+-------+------+----------+----------+\n",
      "|userId|movieId|rating| timestamp|prediction|\n",
      "+------+-------+------+----------+----------+\n",
      "|  4948|    148|   3.0| 832312374| 2.3302832|\n",
      "|  6225|    148|   2.0| 842275770| 2.3093112|\n",
      "|  1931|    148|   2.0| 848773886| 2.5986013|\n",
      "|   156|    463|   4.0|1038076799|  3.384677|\n",
      "|  3179|    471|   4.0|1076914207| 3.3080032|\n",
      "|  5173|    471|   4.0| 856799387| 3.5659912|\n",
      "|  6361|    471|   3.0| 837413612|  2.989394|\n",
      "|  5157|    471|   4.0|1291260775| 3.7524853|\n",
      "|  4531|    471|   4.0| 938899399|  3.481783|\n",
      "|  5030|    471|   3.0| 879420344| 3.1060998|\n",
      "|  1296|    471|   5.0| 945829918| 3.5904336|\n",
      "|   406|    471|   1.0| 834597354| 2.1695347|\n",
      "|  1030|    471|   4.0|1007159126| 3.7809534|\n",
      "|  5895|    471|   5.0|1264332812|   2.76644|\n",
      "|   587|    471|   5.0|1077326007| 3.5009513|\n",
      "|  4866|    471|   5.0| 940340020|  3.968884|\n",
      "|  1210|    471|   3.0| 967063772| 3.1346464|\n",
      "|  2090|    471|   5.0| 859420630| 3.9920585|\n",
      "|  3912|    471|   1.0| 943223892| 3.3781233|\n",
      "|  2064|    471|   3.0|1005233819| 3.4379594|\n",
      "|  2398|    471|   4.0| 948221988| 3.3181958|\n",
      "|  4698|    471|   5.0| 868532319| 3.7390246|\n",
      "|  6917|    471|   1.0| 947278842| 3.0293975|\n",
      "|  4185|    471|   3.5|1094663575| 3.5572102|\n",
      "|  2191|    471|   3.0| 835010319| 3.1576335|\n",
      "|  1122|    471|   3.5|1105032872| 2.9100997|\n",
      "|  1302|    471|   3.0| 833707340| 3.6376507|\n",
      "|  3192|    471|   3.0| 846159568| 3.7384684|\n",
      "|  6112|    471|   4.0| 997330311| 3.4024858|\n",
      "|   699|    471|   4.0| 976295926| 3.6060228|\n",
      "|   348|    471|   4.5|1262622155|  3.769432|\n",
      "|  2337|    471|   1.0| 942322412|  3.286273|\n",
      "|  1155|    471|   3.0|1123086809| 3.3049393|\n",
      "|  3890|    471|   4.0| 900746590|  3.793305|\n",
      "|  2071|    471|   5.0|1120533302| 3.6487396|\n",
      "|   377|    471|   5.0| 864510535| 3.2851388|\n",
      "|  1301|    471|   3.0| 856970651|  3.211146|\n",
      "|  3269|    471|   2.0| 975000262| 3.9673078|\n",
      "|  3473|    471|   3.0|1115076224| 3.2356544|\n",
      "|  4976|    471|   5.0| 833153032| 3.7934186|\n",
      "|   840|    471|   3.0| 845220747| 2.7167978|\n",
      "|  6127|    471|   4.0| 845733396| 3.6682408|\n",
      "|  3937|    471|   4.0|1074869543| 3.9904838|\n",
      "|  4295|    471|   5.0| 989078311| 3.6888964|\n",
      "|  2903|    471|   4.5|1122496248|  3.960675|\n",
      "|  4237|    471|   3.0| 849807165| 3.6864393|\n",
      "|  4961|    471|   2.0| 843750462| 3.6579049|\n",
      "|  4276|    471|   2.0|1166331287|  2.639245|\n",
      "|   929|    471|   4.0|1093886207| 3.7635598|\n",
      "|  2741|    471|   4.0| 974695248| 3.5843167|\n",
      "|  5576|    471|   4.0| 984060353| 3.7960255|\n",
      "|  2794|    471|   4.5|1217066804|  2.770499|\n",
      "|  5186|    471|   4.0| 962909550| 3.5845535|\n",
      "|  2019|    471|   4.0|1115783981| 3.4621587|\n",
      "|  4238|    471|   4.0| 945831427| 3.9174929|\n",
      "|   489|    471|   5.0|1026143480|  3.273008|\n",
      "|  4864|    471|   5.0| 834408351|  3.625241|\n",
      "|   461|    471|   2.0| 909005634| 3.2912166|\n",
      "|   903|    471|   3.0| 902071812|  2.973479|\n",
      "|  3011|    471|   4.0| 843997074|  3.627294|\n",
      "|  6631|    471|   4.0|1054586363| 3.5853558|\n",
      "|   387|    471|   4.5|1222724206| 4.0503516|\n",
      "|  6190|    471|   3.5|1141779551|  3.480197|\n",
      "|  2171|    471|   4.0| 938761568| 3.6318233|\n",
      "|  1279|    471|   3.5|1111083805| 3.6371448|\n",
      "|  3263|    471|   3.5|1224703848|   3.41594|\n",
      "|  5425|    471|   5.0| 950067293| 3.8563547|\n",
      "|  1601|    471|   3.5|1135757383| 3.1441517|\n",
      "|  3628|    471|   4.0| 832533657|  3.825868|\n",
      "|  1963|    471|   4.0|1342185169|  3.674345|\n",
      "|  3944|    471|   4.0|1225303660|  3.717913|\n",
      "|   448|    471|   4.5|1128537258| 3.6567216|\n",
      "|  1001|    471|   4.0|1114479600|  3.248213|\n",
      "|  7074|    471|   3.5|1378340881| 3.7016094|\n",
      "|  2919|    471|   4.0| 841004336| 3.4384084|\n",
      "|  2229|    471|   3.0| 849388795| 3.0405905|\n",
      "|  5922|    471|   4.0|1107282848| 3.5789635|\n",
      "|  1864|    471|   4.0| 952813382| 3.5720298|\n",
      "|  2958|    471|   3.0| 836766479|  2.668203|\n",
      "|  2902|    471|   3.0|1107144811| 3.7310014|\n",
      "|   245|    471|   5.0| 939691813|  3.857278|\n",
      "|  4193|    471|   5.0| 833651091| 3.8977535|\n",
      "|  1421|    471|   4.0|1111549005| 3.0653434|\n",
      "|  5323|    471|   4.0| 841168477| 3.5565696|\n",
      "|  6012|    471|   4.0| 841752450| 3.5083854|\n",
      "|  5458|    471|   4.0| 840560868| 3.4356148|\n",
      "|  4114|    471|   4.0| 974713157| 3.2151403|\n",
      "|  1931|    471|   3.0| 848772422| 3.4262114|\n",
      "|  5773|    471|   4.5|1275197800| 3.1502016|\n",
      "|  2670|    471|   4.5|1213017670| 3.4114475|\n",
      "|  5248|    471|   2.0| 940035318| 3.2080045|\n",
      "|   109|    471|   5.0|1057860482| 3.4984808|\n",
      "|  6228|    471|   5.0| 832016417|  3.986539|\n",
      "|  1813|    471|   4.0|1119985310| 3.8118844|\n",
      "|  3630|    471|   3.0|1136256624| 3.3311102|\n",
      "|  6636|    471|   4.0|1093462459| 3.9380448|\n",
      "|   147|    471|   4.5|1161492481| 3.4464726|\n",
      "|  1972|    471|   5.0| 973079115| 3.6471803|\n",
      "|    14|    471|   5.0|1225308771| 3.4259908|\n",
      "|  3808|    471|   2.5|1117341004| 3.4388678|\n",
      "+------+-------+------+----------+----------+\n",
      "only showing top 100 rows\n",
      "\n"
     ]
    }
   ],
   "source": [
    "predictions.show(100)"
   ]
  },
  {
   "cell_type": "code",
   "execution_count": 22,
   "metadata": {},
   "outputs": [],
   "source": []
  },
  {
   "cell_type": "code",
   "execution_count": 30,
   "metadata": {},
   "outputs": [],
   "source": [
    "#recommend movies"
   ]
  },
  {
   "cell_type": "code",
   "execution_count": 36,
   "metadata": {},
   "outputs": [],
   "source": [
    "# Generate top 10 movie recommendations for each user\n",
    "userRecs = model.recommendForAllUsers(10)"
   ]
  },
  {
   "cell_type": "code",
   "execution_count": 41,
   "metadata": {},
   "outputs": [
    {
     "name": "stdout",
     "output_type": "stream",
     "text": [
      "+------+--------------------+\n",
      "|userId|     recommendations|\n",
      "+------+--------------------+\n",
      "|  1580|[[67138, 4.854030...|\n",
      "|  4900|[[6375, 5.6417985...|\n",
      "|  5300|[[40697, 5.950086...|\n",
      "|  6620|[[727, 5.5132127]...|\n",
      "|   471|[[727, 4.953483],...|\n",
      "|  1591|[[727, 5.832453],...|\n",
      "|  4101|[[83359, 5.112993...|\n",
      "|  1342|[[727, 5.673365],...|\n",
      "|  2122|[[6892, 4.855317]...|\n",
      "|  2142|[[727, 5.7474823]...|\n",
      "+------+--------------------+\n",
      "only showing top 10 rows\n",
      "\n"
     ]
    }
   ],
   "source": [
    "userRecs.show(10)"
   ]
  },
  {
   "cell_type": "code",
   "execution_count": 33,
   "metadata": {},
   "outputs": [],
   "source": [
    "movieRecs=model.recommendForAllItems(10)"
   ]
  },
  {
   "cell_type": "code",
   "execution_count": 42,
   "metadata": {},
   "outputs": [
    {
     "name": "stdout",
     "output_type": "stream",
     "text": [
      "+-------+--------------------+\n",
      "|movieId|     recommendations|\n",
      "+-------+--------------------+\n",
      "|   1580|[[3354, 5.0430036...|\n",
      "|   4900|[[1660, 5.177846]...|\n",
      "|   5300|[[4258, 5.5213346...|\n",
      "|   6620|[[6402, 4.85755],...|\n",
      "|   7240|[[1229, 4.7823863...|\n",
      "|   7340|[[3615, 4.833582]...|\n",
      "|   7880|[[6402, 4.7562876...|\n",
      "|  32460|[[861, 4.945589],...|\n",
      "|  54190|[[2820, 4.945897]...|\n",
      "|  57370|[[3828, 4.3704834...|\n",
      "+-------+--------------------+\n",
      "only showing top 10 rows\n",
      "\n"
     ]
    }
   ],
   "source": [
    "movieRecs.show(10)"
   ]
  },
  {
   "cell_type": "code",
   "execution_count": null,
   "metadata": {},
   "outputs": [],
   "source": [
    "spark.stop()"
   ]
  },
  {
   "cell_type": "markdown",
   "metadata": {},
   "source": []
  }
 ],
 "metadata": {
  "kernelspec": {
   "display_name": "Python 3",
   "language": "python",
   "name": "python3"
  },
  "language_info": {
   "codemirror_mode": {
    "name": "ipython",
    "version": 3
   },
   "file_extension": ".py",
   "mimetype": "text/x-python",
   "name": "python",
   "nbconvert_exporter": "python",
   "pygments_lexer": "ipython3",
   "version": "3.7.3"
  }
 },
 "nbformat": 4,
 "nbformat_minor": 2
}
